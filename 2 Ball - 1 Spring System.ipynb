{
 "cells": [
  {
   "cell_type": "code",
   "execution_count": 1,
   "id": "03fba7ac",
   "metadata": {},
   "outputs": [
    {
     "data": {
      "text/html": [
       "<div id=\"glowscript\" class=\"glowscript\"></div>"
      ],
      "text/plain": [
       "<IPython.core.display.HTML object>"
      ]
     },
     "metadata": {},
     "output_type": "display_data"
    },
    {
     "data": {
      "application/javascript": [
       "if (typeof Jupyter !== \"undefined\") { window.__context = { glowscript_container: $(\"#glowscript\").removeAttr(\"id\")};}else{ element.textContent = ' ';}"
      ],
      "text/plain": [
       "<IPython.core.display.Javascript object>"
      ]
     },
     "metadata": {},
     "output_type": "display_data"
    },
    {
     "data": {
      "text/html": [
       "<div id=\"glowscript\" class=\"glowscript\"></div>"
      ],
      "text/plain": [
       "<IPython.core.display.HTML object>"
      ]
     },
     "metadata": {},
     "output_type": "display_data"
    },
    {
     "data": {
      "application/javascript": [
       "if (typeof Jupyter !== \"undefined\") { window.__context = { glowscript_container: $(\"#glowscript\").removeAttr(\"id\")};}else{ element.textContent = ' ';}"
      ],
      "text/plain": [
       "<IPython.core.display.Javascript object>"
      ]
     },
     "metadata": {},
     "output_type": "display_data"
    },
    {
     "data": {
      "application/javascript": [
       "if (typeof Jupyter !== \"undefined\") {require.undef(\"nbextensions/vpython_libraries/glow.min\");}else{element.textContent = ' ';}"
      ],
      "text/plain": [
       "<IPython.core.display.Javascript object>"
      ]
     },
     "metadata": {},
     "output_type": "display_data"
    },
    {
     "data": {
      "application/javascript": [
       "if (typeof Jupyter !== \"undefined\") {require.undef(\"nbextensions/vpython_libraries/glowcomm\");}else{element.textContent = ' ';}"
      ],
      "text/plain": [
       "<IPython.core.display.Javascript object>"
      ]
     },
     "metadata": {},
     "output_type": "display_data"
    },
    {
     "data": {
      "application/javascript": [
       "if (typeof Jupyter !== \"undefined\") {require.undef(\"nbextensions/vpython_libraries/jquery-ui.custom.min\");}else{element.textContent = ' ';}"
      ],
      "text/plain": [
       "<IPython.core.display.Javascript object>"
      ]
     },
     "metadata": {},
     "output_type": "display_data"
    },
    {
     "data": {
      "application/javascript": [
       "if (typeof Jupyter !== \"undefined\") {require([\"nbextensions/vpython_libraries/glow.min\"], function(){console.log(\"GLOW LOADED\");});}else{element.textContent = ' ';}"
      ],
      "text/plain": [
       "<IPython.core.display.Javascript object>"
      ]
     },
     "metadata": {},
     "output_type": "display_data"
    },
    {
     "data": {
      "application/javascript": [
       "if (typeof Jupyter !== \"undefined\") {require([\"nbextensions/vpython_libraries/glowcomm\"], function(){console.log(\"GLOWCOMM LOADED\");});}else{element.textContent = ' ';}"
      ],
      "text/plain": [
       "<IPython.core.display.Javascript object>"
      ]
     },
     "metadata": {},
     "output_type": "display_data"
    },
    {
     "data": {
      "application/javascript": [
       "if (typeof Jupyter !== \"undefined\") {require([\"nbextensions/vpython_libraries/jquery-ui.custom.min\"], function(){console.log(\"JQUERY LOADED\");});}else{element.textContent = ' ';}"
      ],
      "text/plain": [
       "<IPython.core.display.Javascript object>"
      ]
     },
     "metadata": {},
     "output_type": "display_data"
    }
   ],
   "source": [
    "from vpython import *\n",
    "from math import sin, cos\n",
    "#display(width=600,height=600,center=vector(0,3,3),color=color.green)\n",
    "scene = canvas(title='Breathing and Bouncing Cube',background=color.white)\n",
    "#set 1\n",
    "ball1=sphere(pos=vector(-6,0,0), velocity=vector(0,0,0), radius=1, mass=1.0, color=color.orange)\n",
    "ball2=sphere(pos=vector(6,0,0), velocity=vector(0,0,0), radius=1, mass=1.0, color=color.orange)\n",
    "spring12=helix(pos=ball1.pos,length=12,velocity=vector(0,0,0),axis=ball2.pos-ball1.pos,radius=0.4,constant=1,thickness=0.1,coils=20,color=color.blue)\n",
    "\n",
    "floor = box(pos=vector(0,-10,6), size = vector(80,0.5,80), color=color.white) \n",
    "\n",
    "t=0\n",
    "dt=0.001\n",
    "g=-9.8\n",
    "while (t<20):\n",
    "    rate(1000)\n",
    "    ball1.velocity.y=ball1.velocity.y+g*dt\n",
    "    ball2.velocity.y=ball2.velocity.y+g*dt\n",
    "    spring12.velocity.y=g*dt+ spring12.velocity.y\n",
    "    \n",
    "    #spring12.length=12+2*sin(8*t+2)\n",
    "    \n",
    "    ball1.pos.y=ball1.pos.y+ball1.velocity.y*dt\n",
    "    ball2.pos.y=ball2.pos.y+ball2.velocity.y*dt\n",
    "    spring12.axis=ball2.pos-ball1.pos\n",
    "    ball2.pos.x= 6+1*sin(8*t+2)\n",
    "    ball1.pos.x= -ball2.pos.x\n",
    "    \n",
    "    \n",
    "    \n",
    "    spring12.pos=spring12.pos+spring12.velocity*dt\n",
    "   \n",
    "    \n",
    "    if ball1.pos.y<floor.pos.y+1.25:\n",
    "        ball1.velocity.y = -ball1.velocity.y\n",
    "        ball2.velocity.y = -ball2.velocity.y\n",
    "        spring12.velocity.y=-spring12.velocity.y\n",
    "#     ball1.velocity=ball1.velocity*0.99               <----Use the following \n",
    "#     ball2.velocity=ball2.velocity*0.99                <----lines of code \n",
    "#     spring12.velocity= spring12.velocity*0.99        <------to inculcate damping\n",
    "    t=t+dt\n"
   ]
  }
 ],
 "metadata": {
  "kernelspec": {
   "display_name": "Python 3",
   "language": "python",
   "name": "python3"
  },
  "language_info": {
   "codemirror_mode": {
    "name": "ipython",
    "version": 3
   },
   "file_extension": ".py",
   "mimetype": "text/x-python",
   "name": "python",
   "nbconvert_exporter": "python",
   "pygments_lexer": "ipython3",
   "version": "3.8.8"
  }
 },
 "nbformat": 4,
 "nbformat_minor": 5
}
